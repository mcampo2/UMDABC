{
 "cells": [
  {
   "cell_type": "markdown",
   "metadata": {},
   "source": [
    "## Observations and Insights"
   ]
  },
  {
   "cell_type": "markdown",
   "metadata": {},
   "source": [
    "1. The organizer of this study did not include a control group.  This makes it impossible to tell how effective the treatments were compared to doing nothing.\n",
    "2. The study is well balanced in that half the mice were male and half were female.\n",
    "   * If we had been asked to find the number of mice in each drug group it would have been revealed there are ~25 mice in each group:\n",
    "   `mouse_study.loc[mouse_study[\"Timepoint\"]==0].groupby(\"Drug Regimen\").count()`\n",
    "3. There is a strong correlation between a mouse's weight and it's final tumor volume for the mice treated with Capomulin.\n",
    "4. Ketapril had the largest average tumor size and is likely the least effective drug.\n",
    "5. If we had been asked to calculate tumor growth rates, then we would have realized that only two treatments shrunk the tumor, and the rest facilitated the tumors to grow."
   ]
  },
  {
   "cell_type": "markdown",
   "metadata": {},
   "source": [
    "## Dependencies and starter code"
   ]
  },
  {
   "cell_type": "code",
   "execution_count": 1,
   "metadata": {},
   "outputs": [
    {
     "data": {
      "text/html": [
       "<div>\n",
       "<style scoped>\n",
       "    .dataframe tbody tr th:only-of-type {\n",
       "        vertical-align: middle;\n",
       "    }\n",
       "\n",
       "    .dataframe tbody tr th {\n",
       "        vertical-align: top;\n",
       "    }\n",
       "\n",
       "    .dataframe thead th {\n",
       "        text-align: right;\n",
       "    }\n",
       "</style>\n",
       "<table border=\"1\" class=\"dataframe\">\n",
       "  <thead>\n",
       "    <tr style=\"text-align: right;\">\n",
       "      <th></th>\n",
       "      <th>Mouse ID</th>\n",
       "      <th>Drug Regimen</th>\n",
       "      <th>Sex</th>\n",
       "      <th>Age_months</th>\n",
       "      <th>Weight (g)</th>\n",
       "      <th>Timepoint</th>\n",
       "      <th>Tumor Volume (mm3)</th>\n",
       "      <th>Metastatic Sites</th>\n",
       "    </tr>\n",
       "  </thead>\n",
       "  <tbody>\n",
       "    <tr>\n",
       "      <th>0</th>\n",
       "      <td>k403</td>\n",
       "      <td>Ramicane</td>\n",
       "      <td>Male</td>\n",
       "      <td>21</td>\n",
       "      <td>16</td>\n",
       "      <td>0</td>\n",
       "      <td>45.000000</td>\n",
       "      <td>0</td>\n",
       "    </tr>\n",
       "    <tr>\n",
       "      <th>1</th>\n",
       "      <td>k403</td>\n",
       "      <td>Ramicane</td>\n",
       "      <td>Male</td>\n",
       "      <td>21</td>\n",
       "      <td>16</td>\n",
       "      <td>5</td>\n",
       "      <td>38.825898</td>\n",
       "      <td>0</td>\n",
       "    </tr>\n",
       "    <tr>\n",
       "      <th>2</th>\n",
       "      <td>k403</td>\n",
       "      <td>Ramicane</td>\n",
       "      <td>Male</td>\n",
       "      <td>21</td>\n",
       "      <td>16</td>\n",
       "      <td>10</td>\n",
       "      <td>35.014271</td>\n",
       "      <td>1</td>\n",
       "    </tr>\n",
       "    <tr>\n",
       "      <th>3</th>\n",
       "      <td>k403</td>\n",
       "      <td>Ramicane</td>\n",
       "      <td>Male</td>\n",
       "      <td>21</td>\n",
       "      <td>16</td>\n",
       "      <td>15</td>\n",
       "      <td>34.223992</td>\n",
       "      <td>1</td>\n",
       "    </tr>\n",
       "    <tr>\n",
       "      <th>4</th>\n",
       "      <td>k403</td>\n",
       "      <td>Ramicane</td>\n",
       "      <td>Male</td>\n",
       "      <td>21</td>\n",
       "      <td>16</td>\n",
       "      <td>20</td>\n",
       "      <td>32.997729</td>\n",
       "      <td>1</td>\n",
       "    </tr>\n",
       "  </tbody>\n",
       "</table>\n",
       "</div>"
      ],
      "text/plain": [
       "  Mouse ID Drug Regimen   Sex  Age_months  Weight (g)  Timepoint  \\\n",
       "0     k403     Ramicane  Male          21          16          0   \n",
       "1     k403     Ramicane  Male          21          16          5   \n",
       "2     k403     Ramicane  Male          21          16         10   \n",
       "3     k403     Ramicane  Male          21          16         15   \n",
       "4     k403     Ramicane  Male          21          16         20   \n",
       "\n",
       "   Tumor Volume (mm3)  Metastatic Sites  \n",
       "0           45.000000                 0  \n",
       "1           38.825898                 0  \n",
       "2           35.014271                 1  \n",
       "3           34.223992                 1  \n",
       "4           32.997729                 1  "
      ]
     },
     "execution_count": 1,
     "metadata": {},
     "output_type": "execute_result"
    }
   ],
   "source": [
    "# Dependencies and Setup\n",
    "import matplotlib.pyplot as plt\n",
    "import pandas as pd\n",
    "import scipy.stats as st\n",
    "\n",
    "# Study data files\n",
    "mouse_metadata = \"data/Mouse_metadata.csv\"\n",
    "study_results = \"data/Study_results.csv\"\n",
    "\n",
    "# Read the mouse data and the study results\n",
    "mouse_metadata = pd.read_csv(mouse_metadata)\n",
    "study_results = pd.read_csv(study_results)\n",
    "\n",
    "# Combine the data into a single dataset\n",
    "mouse_study = pd.merge(mouse_metadata, study_results, on=\"Mouse ID\")\n",
    "# print(\"Size of Dataset: \" + str(len(mouse_study)) + \" rows\")\n",
    "mouse_study.head()"
   ]
  },
  {
   "cell_type": "markdown",
   "metadata": {},
   "source": [
    "\n",
    "## Summary statistics"
   ]
  },
  {
   "cell_type": "code",
   "execution_count": 2,
   "metadata": {},
   "outputs": [
    {
     "data": {
      "text/html": [
       "<div>\n",
       "<style scoped>\n",
       "    .dataframe tbody tr th:only-of-type {\n",
       "        vertical-align: middle;\n",
       "    }\n",
       "\n",
       "    .dataframe tbody tr th {\n",
       "        vertical-align: top;\n",
       "    }\n",
       "\n",
       "    .dataframe thead th {\n",
       "        text-align: right;\n",
       "    }\n",
       "</style>\n",
       "<table border=\"1\" class=\"dataframe\">\n",
       "  <thead>\n",
       "    <tr style=\"text-align: right;\">\n",
       "      <th>Drug Regimen</th>\n",
       "      <th>Mean</th>\n",
       "      <th>Median</th>\n",
       "      <th>Variance</th>\n",
       "      <th>SD</th>\n",
       "      <th>SEM</th>\n",
       "    </tr>\n",
       "  </thead>\n",
       "  <tbody>\n",
       "    <tr>\n",
       "      <th>Capomulin</th>\n",
       "      <td>40.675741</td>\n",
       "      <td>40.675741</td>\n",
       "      <td>24.947764</td>\n",
       "      <td>4.994774</td>\n",
       "      <td>0.329346</td>\n",
       "    </tr>\n",
       "    <tr>\n",
       "      <th>Ceftamin</th>\n",
       "      <td>52.591172</td>\n",
       "      <td>52.591172</td>\n",
       "      <td>39.290177</td>\n",
       "      <td>6.268188</td>\n",
       "      <td>0.469821</td>\n",
       "    </tr>\n",
       "    <tr>\n",
       "      <th>Infubinol</th>\n",
       "      <td>52.884795</td>\n",
       "      <td>52.884795</td>\n",
       "      <td>43.128684</td>\n",
       "      <td>6.567243</td>\n",
       "      <td>0.492236</td>\n",
       "    </tr>\n",
       "    <tr>\n",
       "      <th>Ketapril</th>\n",
       "      <td>55.235638</td>\n",
       "      <td>55.235638</td>\n",
       "      <td>68.553577</td>\n",
       "      <td>8.279709</td>\n",
       "      <td>0.603860</td>\n",
       "    </tr>\n",
       "    <tr>\n",
       "      <th>Naftisol</th>\n",
       "      <td>54.331565</td>\n",
       "      <td>54.331565</td>\n",
       "      <td>66.173479</td>\n",
       "      <td>8.134708</td>\n",
       "      <td>0.596466</td>\n",
       "    </tr>\n",
       "    <tr>\n",
       "      <th>Placebo</th>\n",
       "      <td>54.033581</td>\n",
       "      <td>54.033581</td>\n",
       "      <td>61.168083</td>\n",
       "      <td>7.821003</td>\n",
       "      <td>0.581331</td>\n",
       "    </tr>\n",
       "    <tr>\n",
       "      <th>Propriva</th>\n",
       "      <td>52.322552</td>\n",
       "      <td>52.322552</td>\n",
       "      <td>42.351070</td>\n",
       "      <td>6.507770</td>\n",
       "      <td>0.512884</td>\n",
       "    </tr>\n",
       "    <tr>\n",
       "      <th>Ramicane</th>\n",
       "      <td>40.216745</td>\n",
       "      <td>40.216745</td>\n",
       "      <td>23.486704</td>\n",
       "      <td>4.846308</td>\n",
       "      <td>0.320955</td>\n",
       "    </tr>\n",
       "    <tr>\n",
       "      <th>Stelasyn</th>\n",
       "      <td>54.233149</td>\n",
       "      <td>54.233149</td>\n",
       "      <td>59.450562</td>\n",
       "      <td>7.710419</td>\n",
       "      <td>0.573111</td>\n",
       "    </tr>\n",
       "    <tr>\n",
       "      <th>Zoniferol</th>\n",
       "      <td>53.236507</td>\n",
       "      <td>53.236507</td>\n",
       "      <td>48.533355</td>\n",
       "      <td>6.966589</td>\n",
       "      <td>0.516398</td>\n",
       "    </tr>\n",
       "  </tbody>\n",
       "</table>\n",
       "</div>"
      ],
      "text/plain": [
       "Drug Regimen       Mean     Median   Variance        SD       SEM\n",
       "Capomulin     40.675741  40.675741  24.947764  4.994774  0.329346\n",
       "Ceftamin      52.591172  52.591172  39.290177  6.268188  0.469821\n",
       "Infubinol     52.884795  52.884795  43.128684  6.567243  0.492236\n",
       "Ketapril      55.235638  55.235638  68.553577  8.279709  0.603860\n",
       "Naftisol      54.331565  54.331565  66.173479  8.134708  0.596466\n",
       "Placebo       54.033581  54.033581  61.168083  7.821003  0.581331\n",
       "Propriva      52.322552  52.322552  42.351070  6.507770  0.512884\n",
       "Ramicane      40.216745  40.216745  23.486704  4.846308  0.320955\n",
       "Stelasyn      54.233149  54.233149  59.450562  7.710419  0.573111\n",
       "Zoniferol     53.236507  53.236507  48.533355  6.966589  0.516398"
      ]
     },
     "execution_count": 2,
     "metadata": {},
     "output_type": "execute_result"
    }
   ],
   "source": [
    "# Generate a summary statistics table of mean, median, variance,\n",
    "# standard deviation, and SEM of the tumor volume for each regimen\n",
    "tumor_volume_mean = mouse_study.groupby(\"Drug Regimen\").mean()[\"Tumor Volume (mm3)\"]\n",
    "tumor_volume_median = mouse_study.groupby(\"Drug Regimen\").median()[\"Tumor Volume (mm3)\"]\n",
    "tumor_volume_var = mouse_study.groupby(\"Drug Regimen\").var()[\"Tumor Volume (mm3)\"]\n",
    "tumor_volume_std = mouse_study.groupby(\"Drug Regimen\").std()[\"Tumor Volume (mm3)\"]\n",
    "tumor_volume_sem = mouse_study.groupby(\"Drug Regimen\").sem()[\"Tumor Volume (mm3)\"]\n",
    "summary_df = pd.DataFrame({\n",
    "    \"Mean\": tumor_volume_mean,\n",
    "    \"Median\": tumor_volume_mean,\n",
    "    \"Variance\": tumor_volume_var,\n",
    "    \"SD\": tumor_volume_std,\n",
    "    \"SEM\": tumor_volume_sem\n",
    "})\n",
    "\n",
    "# an alternative method of calculating these values would be:\n",
    "# mouse_study.groupby(\"Drug Regimen\").agg(('mean', 'median', 'var', 'std', 'sem'))[\"Tumor Volume (mm3)\"]\n",
    "\n",
    "# print the values in a pretty table\n",
    "summary_df.columns.name = summary_df.index.name\n",
    "summary_df.index.name = None\n",
    "summary_df"
   ]
  },
  {
   "cell_type": "markdown",
   "metadata": {},
   "source": [
    "## Bar plots"
   ]
  },
  {
   "cell_type": "code",
   "execution_count": 3,
   "metadata": {},
   "outputs": [
    {
     "data": {
      "image/png": "[encoded data removed]",
      "text/plain": [
       "<Figure size 432x288 with 1 Axes>"
      ]
     },
     "metadata": {
      "needs_background": "light"
     },
     "output_type": "display_data"
    }
   ],
   "source": [
    "# Generate a bar plot showing number of data points for each treatment regimen using pandas\n",
    "plot = mouse_study.groupby(\"Drug Regimen\").count()[\"Tumor Volume (mm3)\"] \\\n",
    ".plot(kind=\"bar\", title=\"Number of Datapoints in Each Treatment\", width=0.8)\n",
    "plot.set_title(\"\\nNumber of Datapoints in Each Treatment\\n\", fontdict={\"size\": 20})\n",
    "plot.set_xlabel(\"Drug Regiment\", fontdict={\"size\": 12})\n",
    "plot.set_ylabel(\"Datapoints\", fontdict={\"size\": 12})\n",
    "plot.margins(0.05,0.05)\n",
    "plt.show()"
   ]
  },
  {
   "cell_type": "code",
   "execution_count": 4,
   "metadata": {},
   "outputs": [
    {
     "data": {
      "image/png": "[encoded data removed]",
      "text/plain": [
       "<Figure size 432x288 with 1 Axes>"
      ]
     },
     "metadata": {
      "needs_background": "light"
     },
     "output_type": "display_data"
    }
   ],
   "source": [
    "# Generate a bar plot showing number of data points for each treatment regimen using pyplot\n",
    "numDatapoints = mouse_study.groupby(\"Drug Regimen\").count()[\"Tumor Volume (mm3)\"]\n",
    "plt.bar(numDatapoints.index.values, numDatapoints, width=0.8)\n",
    "plt.title(\"\\nNumber of Datapoints in Each Treatment\\n\", fontdict={\"size\": 20})\n",
    "plt.xlabel(\"Drug Regimen\", fontdict={\"size\": 12})\n",
    "plt.ylabel(\"Datapoints\", fontdict={\"size\": 12})\n",
    "plt.xticks(rotation=90)\n",
    "plt.margins(0.05,0.05)\n",
    "plt.show()"
   ]
  },
  {
   "cell_type": "markdown",
   "metadata": {},
   "source": [
    "## Pie plots"
   ]
  },
  {
   "cell_type": "code",
   "execution_count": 5,
   "metadata": {},
   "outputs": [
    {
     "data": {
      "image/png": "[encoded data removed]",
      "text/plain": [
       "<Figure size 432x288 with 1 Axes>"
      ]
     },
     "metadata": {},
     "output_type": "display_data"
    }
   ],
   "source": [
    "# Generate a pie plot showing the distribution of female versus male mice using pandas\n",
    "genderCount = mouse_study[[\"Sex\", \"Mouse ID\"]].groupby([\"Sex\"])[\"Mouse ID\"].nunique()\n",
    "def label(x): return f\"{x:.1f}%\\n({x*genderCount.sum()/100:.0f})\"\n",
    "\n",
    "plot = genderCount.plot(kind=\"pie\", label=\"\", autopct=lambda x: label(x), \\\n",
    "       textprops={\"color\": \"w\", \"size\": 12, \"weight\": \"bold\"})\n",
    "\n",
    "plot.set_title(\"Distribution of Mice by Gender\", fontdict={\"size\": 20})\n",
    "plot.legend(labels=genderCount.index, title=\"Gender\", bbox_to_anchor=(0.7, 0, 0.5, 1))\n",
    "plt.show()"
   ]
  },
  {
   "cell_type": "code",
   "execution_count": 6,
   "metadata": {},
   "outputs": [
    {
     "data": {
      "image/png": "[encoded data removed]",
      "text/plain": [
       "<Figure size 432x288 with 1 Axes>"
      ]
     },
     "metadata": {},
     "output_type": "display_data"
    }
   ],
   "source": [
    "# Generate a pie plot showing the distribution of female versus male mice using pyplot\n",
    "plt.pie(genderCount, autopct=lambda x: label(x), textprops={\"color\": \"w\", \"size\": 12, \"weight\": \"bold\"})\n",
    "\n",
    "plt.title(\"Distribution of Mice by Gender\", fontdict={\"size\": 20})\n",
    "plt.legend(labels=genderCount.index, title=\"Gender\", bbox_to_anchor=(0.7, 0, 0.5, 1))\n",
    "plt.show()"
   ]
  },
  {
   "cell_type": "markdown",
   "metadata": {},
   "source": [
    "## Quartiles, outliers and boxplots"
   ]
  },
  {
   "cell_type": "code",
   "execution_count": 7,
   "metadata": {},
   "outputs": [
    {
     "data": {
      "text/html": [
       "<div>\n",
       "<style scoped>\n",
       "    .dataframe tbody tr th:only-of-type {\n",
       "        vertical-align: middle;\n",
       "    }\n",
       "\n",
       "    .dataframe tbody tr th {\n",
       "        vertical-align: top;\n",
       "    }\n",
       "\n",
       "    .dataframe thead th {\n",
       "        text-align: right;\n",
       "    }\n",
       "</style>\n",
       "<table border=\"1\" class=\"dataframe\">\n",
       "  <thead>\n",
       "    <tr style=\"text-align: right;\">\n",
       "      <th>Mouse ID</th>\n",
       "      <th>Drug Regimen</th>\n",
       "      <th>Sex</th>\n",
       "      <th>Age_months</th>\n",
       "      <th>Weight (g)</th>\n",
       "      <th>Timepoint</th>\n",
       "      <th>Tumor Volume (mm3)</th>\n",
       "      <th>Metastatic Sites</th>\n",
       "    </tr>\n",
       "  </thead>\n",
       "  <tbody>\n",
       "    <tr>\n",
       "      <th>a203</th>\n",
       "      <td>Infubinol</td>\n",
       "      <td>Female</td>\n",
       "      <td>20</td>\n",
       "      <td>23</td>\n",
       "      <td>45</td>\n",
       "      <td>67.973419</td>\n",
       "      <td>2</td>\n",
       "    </tr>\n",
       "    <tr>\n",
       "      <th>a251</th>\n",
       "      <td>Infubinol</td>\n",
       "      <td>Female</td>\n",
       "      <td>21</td>\n",
       "      <td>25</td>\n",
       "      <td>45</td>\n",
       "      <td>65.525743</td>\n",
       "      <td>1</td>\n",
       "    </tr>\n",
       "    <tr>\n",
       "      <th>a275</th>\n",
       "      <td>Ceftamin</td>\n",
       "      <td>Female</td>\n",
       "      <td>20</td>\n",
       "      <td>28</td>\n",
       "      <td>45</td>\n",
       "      <td>62.999356</td>\n",
       "      <td>3</td>\n",
       "    </tr>\n",
       "    <tr>\n",
       "      <th>a411</th>\n",
       "      <td>Ramicane</td>\n",
       "      <td>Male</td>\n",
       "      <td>3</td>\n",
       "      <td>22</td>\n",
       "      <td>45</td>\n",
       "      <td>38.407618</td>\n",
       "      <td>1</td>\n",
       "    </tr>\n",
       "    <tr>\n",
       "      <th>a444</th>\n",
       "      <td>Ramicane</td>\n",
       "      <td>Female</td>\n",
       "      <td>10</td>\n",
       "      <td>25</td>\n",
       "      <td>45</td>\n",
       "      <td>43.047543</td>\n",
       "      <td>0</td>\n",
       "    </tr>\n",
       "    <tr>\n",
       "      <th>...</th>\n",
       "      <td>...</td>\n",
       "      <td>...</td>\n",
       "      <td>...</td>\n",
       "      <td>...</td>\n",
       "      <td>...</td>\n",
       "      <td>...</td>\n",
       "      <td>...</td>\n",
       "    </tr>\n",
       "    <tr>\n",
       "      <th>y769</th>\n",
       "      <td>Ceftamin</td>\n",
       "      <td>Female</td>\n",
       "      <td>6</td>\n",
       "      <td>27</td>\n",
       "      <td>45</td>\n",
       "      <td>68.594745</td>\n",
       "      <td>4</td>\n",
       "    </tr>\n",
       "    <tr>\n",
       "      <th>y793</th>\n",
       "      <td>Capomulin</td>\n",
       "      <td>Male</td>\n",
       "      <td>17</td>\n",
       "      <td>17</td>\n",
       "      <td>45</td>\n",
       "      <td>31.896238</td>\n",
       "      <td>2</td>\n",
       "    </tr>\n",
       "    <tr>\n",
       "      <th>y865</th>\n",
       "      <td>Ceftamin</td>\n",
       "      <td>Male</td>\n",
       "      <td>23</td>\n",
       "      <td>26</td>\n",
       "      <td>45</td>\n",
       "      <td>64.729837</td>\n",
       "      <td>3</td>\n",
       "    </tr>\n",
       "    <tr>\n",
       "      <th>z578</th>\n",
       "      <td>Ramicane</td>\n",
       "      <td>Male</td>\n",
       "      <td>11</td>\n",
       "      <td>16</td>\n",
       "      <td>45</td>\n",
       "      <td>30.638696</td>\n",
       "      <td>0</td>\n",
       "    </tr>\n",
       "    <tr>\n",
       "      <th>z581</th>\n",
       "      <td>Infubinol</td>\n",
       "      <td>Female</td>\n",
       "      <td>24</td>\n",
       "      <td>25</td>\n",
       "      <td>45</td>\n",
       "      <td>62.754451</td>\n",
       "      <td>3</td>\n",
       "    </tr>\n",
       "  </tbody>\n",
       "</table>\n",
       "<p>100 rows × 7 columns</p>\n",
       "</div>"
      ],
      "text/plain": [
       "Mouse ID Drug Regimen     Sex  Age_months  Weight (g)  Timepoint  \\\n",
       "a203        Infubinol  Female          20          23         45   \n",
       "a251        Infubinol  Female          21          25         45   \n",
       "a275         Ceftamin  Female          20          28         45   \n",
       "a411         Ramicane    Male           3          22         45   \n",
       "a444         Ramicane  Female          10          25         45   \n",
       "...               ...     ...         ...         ...        ...   \n",
       "y769         Ceftamin  Female           6          27         45   \n",
       "y793        Capomulin    Male          17          17         45   \n",
       "y865         Ceftamin    Male          23          26         45   \n",
       "z578         Ramicane    Male          11          16         45   \n",
       "z581        Infubinol  Female          24          25         45   \n",
       "\n",
       "Mouse ID  Tumor Volume (mm3)  Metastatic Sites  \n",
       "a203               67.973419                 2  \n",
       "a251               65.525743                 1  \n",
       "a275               62.999356                 3  \n",
       "a411               38.407618                 1  \n",
       "a444               43.047543                 0  \n",
       "...                      ...               ...  \n",
       "y769               68.594745                 4  \n",
       "y793               31.896238                 2  \n",
       "y865               64.729837                 3  \n",
       "z578               30.638696                 0  \n",
       "z581               62.754451                 3  \n",
       "\n",
       "[100 rows x 7 columns]"
      ]
     },
     "execution_count": 7,
     "metadata": {},
     "output_type": "execute_result"
    }
   ],
   "source": [
    "# Calculate the final tumor volume of each mouse across four of the most promising treatment regimens.\n",
    "# Capomulin, Ramicane, Infubinol, and Ceftamin\n",
    "finalTumorVolumes = mouse_study[mouse_study[\"Drug Regimen\"].isin((\"Capomulin\", \"Ramicane\", \"Infubinol\", \"Ceftamin\"))]\n",
    "finalTumorVolumes = finalTumorVolumes.loc[finalTumorVolumes.groupby([\"Mouse ID\"])[\"Timepoint\"].idxmax()]\n",
    "finalTumorVolumes.set_index(\"Mouse ID\", inplace=True)\n",
    "finalTumorVolumes.columns.name = finalTumorVolumes.index.name\n",
    "finalTumorVolumes.index.name = None\n",
    "finalTumorVolumes"
   ]
  },
  {
   "cell_type": "code",
   "execution_count": 8,
   "metadata": {},
   "outputs": [
    {
     "data": {
      "text/html": [
       "<div>\n",
       "<style scoped>\n",
       "    .dataframe tbody tr th:only-of-type {\n",
       "        vertical-align: middle;\n",
       "    }\n",
       "\n",
       "    .dataframe tbody tr th {\n",
       "        vertical-align: top;\n",
       "    }\n",
       "\n",
       "    .dataframe thead th {\n",
       "        text-align: right;\n",
       "    }\n",
       "</style>\n",
       "<table border=\"1\" class=\"dataframe\">\n",
       "  <thead>\n",
       "    <tr style=\"text-align: right;\">\n",
       "      <th>Tumor Volume</th>\n",
       "      <th>Q1</th>\n",
       "      <th>Q2</th>\n",
       "      <th>Q3</th>\n",
       "      <th>IQR</th>\n",
       "      <th>Outliers</th>\n",
       "    </tr>\n",
       "  </thead>\n",
       "  <tbody>\n",
       "    <tr>\n",
       "      <th>Overall</th>\n",
       "      <td>37.19</td>\n",
       "      <td>45.00</td>\n",
       "      <td>59.93</td>\n",
       "      <td>22.74</td>\n",
       "      <td>0</td>\n",
       "    </tr>\n",
       "    <tr>\n",
       "      <th>Capomulin</th>\n",
       "      <td>32.38</td>\n",
       "      <td>38.13</td>\n",
       "      <td>40.16</td>\n",
       "      <td>7.78</td>\n",
       "      <td>0</td>\n",
       "    </tr>\n",
       "    <tr>\n",
       "      <th>Ramicane</th>\n",
       "      <td>31.56</td>\n",
       "      <td>36.56</td>\n",
       "      <td>40.66</td>\n",
       "      <td>9.10</td>\n",
       "      <td>0</td>\n",
       "    </tr>\n",
       "    <tr>\n",
       "      <th>Infubinol</th>\n",
       "      <td>54.05</td>\n",
       "      <td>60.17</td>\n",
       "      <td>65.53</td>\n",
       "      <td>11.48</td>\n",
       "      <td>1</td>\n",
       "    </tr>\n",
       "    <tr>\n",
       "      <th>Ceftamin</th>\n",
       "      <td>48.72</td>\n",
       "      <td>59.85</td>\n",
       "      <td>64.30</td>\n",
       "      <td>15.58</td>\n",
       "      <td>0</td>\n",
       "    </tr>\n",
       "  </tbody>\n",
       "</table>\n",
       "</div>"
      ],
      "text/plain": [
       "Tumor Volume     Q1     Q2     Q3    IQR  Outliers\n",
       "Overall       37.19  45.00  59.93  22.74         0\n",
       "Capomulin     32.38  38.13  40.16   7.78         0\n",
       "Ramicane      31.56  36.56  40.66   9.10         0\n",
       "Infubinol     54.05  60.17  65.53  11.48         1\n",
       "Ceftamin      48.72  59.85  64.30  15.58         0"
      ]
     },
     "execution_count": 8,
     "metadata": {},
     "output_type": "execute_result"
    }
   ],
   "source": [
    "# Calculate the IQR and quantitatively determine if there are any potential outliers.\n",
    "\n",
    "# Q1, Q2, Q3, IQR, #Outliers\n",
    "q1 = []\n",
    "q2 = []\n",
    "q3 = []\n",
    "iqr = []\n",
    "numOutliers = []\n",
    "\n",
    "for drug in (\"Overall\", \"Capomulin\", \"Ramicane\", \"Infubinol\", \"Ceftamin\"):\n",
    "    # select drug subgroup\n",
    "    drugMice = finalTumorVolumes\n",
    "    if drug != \"Overall\":\n",
    "        drugMice = drugMice[drugMice[\"Drug Regimen\"]==drug]\n",
    "    # calculate quartiles and IQR\n",
    "    drugQuartiles = drugMice[[\"Tumor Volume (mm3)\"]].quantile([.25,.5,.75])[\"Tumor Volume (mm3)\"]\n",
    "    q1.append(drugQuartiles.iloc[0])\n",
    "    q2.append(drugQuartiles.iloc[1])\n",
    "    q3.append(drugQuartiles.iloc[2])\n",
    "    iqr.append(drugQuartiles.iloc[2] - drugQuartiles.iloc[0])\n",
    "    # calculate outliers\n",
    "    drugQmin = drugQuartiles.iloc[0] - 1.5*iqr[-1]\n",
    "    drugQmax = drugQuartiles.iloc[2] + 1.5*iqr[-1]\n",
    "    drugOutliers = len(drugMice[drugMice[\"Tumor Volume (mm3)\"]<drugQmin]) \\\n",
    "                 + len(drugMice[drugMice[\"Tumor Volume (mm3)\"]>drugQmax])\n",
    "    numOutliers.append(drugOutliers)\n",
    "\n",
    "# convert calculations to a dataframe\n",
    "distribution_df = pd.DataFrame({\n",
    "    \"Q1\": pd.Series(q1).round(2),\n",
    "    \"Q2\": pd.Series(q2).round(2),\n",
    "    \"Q3\": pd.Series(q3).round(2),\n",
    "    \"IQR\": pd.Series(iqr).round(2),\n",
    "    \"Outliers\": pd.Series(numOutliers).round(2),\n",
    "})\n",
    "distribution_df.columns.name = \"Tumor Volume\"\n",
    "distribution_df.index = (\"Overall\", \"Capomulin\", \"Ramicane\", \"Infubinol\", \"Ceftamin\")\n",
    "distribution_df"
   ]
  },
  {
   "cell_type": "code",
   "execution_count": 9,
   "metadata": {},
   "outputs": [
    {
     "data": {
      "image/png": "[encoded data removed]",
      "text/plain": [
       "<Figure size 1152x216 with 4 Axes>"
      ]
     },
     "metadata": {
      "needs_background": "light"
     },
     "output_type": "display_data"
    }
   ],
   "source": [
    "# Generate a box plot of the final tumor volume of each mouse across four regimens of interest\n",
    "plotData = []\n",
    "drugs = (\"Capomulin\", \"Ramicane\", \"Infubinol\", \"Ceftamin\")\n",
    "for drug in (\"Capomulin\", \"Ramicane\", \"Infubinol\", \"Ceftamin\"):\n",
    "    plotData.append(finalTumorVolumes[finalTumorVolumes[\"Drug Regimen\"]==drug][\"Tumor Volume (mm3)\"])\n",
    "figure, plots = plt.subplots(1,len(plotData), figsize=(16, 3))\n",
    "for index in range(len(plotData)):\n",
    "    plots[index].boxplot(plotData[index], flierprops={\"markerfacecolor\": \"r\"})\n",
    "    plots[index].set_title(\"Final Tumor Sizes of \" + drugs[index], fontdict={\"size\": 13})\n",
    "    plots[index].set_xlabel(drugs[index])\n",
    "    plots[index].set_xticks([])\n",
    "    plots[index].set_ylabel(\"Tumor Size (mm3)\")\n",
    "plt.show()"
   ]
  },
  {
   "cell_type": "markdown",
   "metadata": {},
   "source": [
    "## Line and scatter plots"
   ]
  },
  {
   "cell_type": "code",
   "execution_count": 10,
   "metadata": {},
   "outputs": [
    {
     "data": {
      "image/png": "[encoded data removed]",
      "text/plain": [
       "<Figure size 432x288 with 1 Axes>"
      ]
     },
     "metadata": {
      "needs_background": "light"
     },
     "output_type": "display_data"
    }
   ],
   "source": [
    "# Generate a line plot of time point versus tumor volume for a mouse treated with Capomulin\n",
    "\n",
    "# get first Capomulin mouse\n",
    "mouse_id = mouse_study[mouse_study[\"Drug Regimen\"]==\"Capomulin\"].iloc[0][\"Mouse ID\"]\n",
    "mouse_data = mouse_study[mouse_study[\"Mouse ID\"]==mouse_id]\n",
    "\n",
    "# plot first Capomulin mouse's data\n",
    "plt.plot(mouse_data[\"Timepoint\"], mouse_data[\"Tumor Volume (mm3)\"])\n",
    "plt.title(\"Tumor Size over Time for \" + mouse_id, fontdict={\"size\": 16})\n",
    "plt.xlabel(\"Timepoint\", fontdict={\"size\": 12})\n",
    "plt.ylabel(\"Tumor Volume (mm$^3$)\", fontdict={\"size\": 12})\n",
    "plt.show()"
   ]
  },
  {
   "cell_type": "code",
   "execution_count": 11,
   "metadata": {},
   "outputs": [
    {
     "data": {
      "image/png": "[encoded data removed]",
      "text/plain": [
       "<Figure size 432x288 with 1 Axes>"
      ]
     },
     "metadata": {
      "needs_background": "light"
     },
     "output_type": "display_data"
    }
   ],
   "source": [
    "# Generate a scatter plot of mouse weight versus average tumor volume for the Capomulin regimen\n",
    "\n",
    "# get 'mouse weights' and 'tumor volume averages' data Series\n",
    "weight = pd.Series(finalTumorVolumes[finalTumorVolumes[\"Drug Regimen\"]==\"Capomulin\"].groupby([\"Weight (g)\"]).count().index)\n",
    "volume = finalTumorVolumes[finalTumorVolumes[\"Drug Regimen\"]==\"Capomulin\"].groupby([\"Weight (g)\"]).mean()[\"Tumor Volume (mm3)\"]\n",
    "\n",
    "# plot average tumor volume by weight\n",
    "plt.scatter(weight, volume)\n",
    "plt.title(\"Mouse Weight vs Average Final\\nTumor Volume (Capomulin)\", fontdict={\"size\": 16})\n",
    "plt.xlabel(\"Mouse Weight (g)\", fontdict={\"size\": 12})\n",
    "plt.ylabel(\"Tumor Volume (mm$^3$)\", fontdict={\"size\": 12})\n",
    "plt.show()"
   ]
  },
  {
   "cell_type": "code",
   "execution_count": 12,
   "metadata": {},
   "outputs": [
    {
     "data": {
      "image/png": "[encoded data removed]",
      "text/plain": [
       "<Figure size 432x288 with 1 Axes>"
      ]
     },
     "metadata": {
      "needs_background": "light"
     },
     "output_type": "display_data"
    }
   ],
   "source": [
    "# Calculate the correlation coefficient and linear regression model for mouse weight and average tumor volume for the Capomulin regimen\n",
    "(slope, intercept, rvalue, pvalue, stderr) = st.linregress(weight, volume)\n",
    "correlation = st.pearsonr(weight, volume)\n",
    "line_eq = f\"y = {slope:.2f}x + {intercept:.2f}\\n$R^2 = {correlation[0]:.2f}$\"\n",
    "\n",
    "# repeat previous plot\n",
    "plt.scatter(weight, volume)\n",
    "plt.title(\"Mouse Weight vs Average Final\\nTumor Volume (Capomulin)\", fontdict={\"size\": 16})\n",
    "plt.xlabel(\"Mouse Weight (g)\", fontdict={\"size\": 12})\n",
    "plt.ylabel(\"Tumor Volume (mm$^3$)\", fontdict={\"size\": 12})\n",
    "\n",
    "# calculate annotation position\n",
    "position = (weight.mean() + (weight.max() - weight.mean())*0.25, volume.mean() - (volume.max() - volume.mean())*0.25)\n",
    "\n",
    "# plot regression equation and r-squared\n",
    "plt.plot(weight, weight*slope + intercept, \"r-\")\n",
    "plt.annotate(line_eq,position,fontsize=12,color=\"red\")\n",
    "plt.show()"
   ]
  },
  {
   "cell_type": "markdown",
   "metadata": {},
   "source": [
    "# Extra Data Just Because\n",
    "* In the \"Quartiles, outliers and boxplots\" section, we were asked to \"Calculate the final tumor volume of each mouse across four of the most promising treatment regimens.\"  In the README.md there treatments are stated to be \"Capomulin, Ramicane, Infubinol, and Ceftamin.\"  However, I wanted to know by what margin are they the best drugs."
   ]
  },
  {
   "cell_type": "code",
   "execution_count": 13,
   "metadata": {},
   "outputs": [
    {
     "data": {
      "text/html": [
       "<div>\n",
       "<style scoped>\n",
       "    .dataframe tbody tr th:only-of-type {\n",
       "        vertical-align: middle;\n",
       "    }\n",
       "\n",
       "    .dataframe tbody tr th {\n",
       "        vertical-align: top;\n",
       "    }\n",
       "\n",
       "    .dataframe thead th {\n",
       "        text-align: right;\n",
       "    }\n",
       "</style>\n",
       "<table border=\"1\" class=\"dataframe\">\n",
       "  <thead>\n",
       "    <tr style=\"text-align: right;\">\n",
       "      <th>Mouse ID</th>\n",
       "      <th>Drug Regimen</th>\n",
       "      <th>Tumor Growth Rate</th>\n",
       "    </tr>\n",
       "  </thead>\n",
       "  <tbody>\n",
       "    <tr>\n",
       "      <th>k403</th>\n",
       "      <td>Ramicane</td>\n",
       "      <td>-0.435169</td>\n",
       "    </tr>\n",
       "    <tr>\n",
       "      <th>z969</th>\n",
       "      <td>Naftisol</td>\n",
       "      <td>0.639898</td>\n",
       "    </tr>\n",
       "  </tbody>\n",
       "</table>\n",
       "</div>"
      ],
      "text/plain": [
       "Mouse ID Drug Regimen Tumor Growth Rate\n",
       "k403         Ramicane         -0.435169\n",
       "z969         Naftisol          0.639898"
      ]
     },
     "execution_count": 13,
     "metadata": {},
     "output_type": "execute_result"
    }
   ],
   "source": [
    "# let's calculate how how well the mice did\n",
    "\n",
    "# create a list with all the mice\n",
    "mice = mouse_study[\"Mouse ID\"].unique()\n",
    "results = []\n",
    "\n",
    "# determine how well the mice did\n",
    "for mouse in mice: # get the mouse's data\n",
    "    mouse_data = mouse_study[mouse_study[\"Mouse ID\"]==mouse]\n",
    "    mouse_data = mouse_data[[\"Mouse ID\", \"Drug Regimen\", \"Timepoint\", \"Tumor Volume (mm3)\"]]\n",
    "    mouse_data.reset_index(inplace=True)\n",
    "    # calculate the linear regression of the mouse's study results\n",
    "    if len(mouse_data) < 2: continue # we need at least 2 values to calculate linregress\n",
    "    (slope, intercept, rvalue, pvalue, stderr) = st.linregress(mouse_data[\"Timepoint\"], mouse_data[\"Tumor Volume (mm3)\"])\n",
    "    # add the mouse to the results list\n",
    "    results.append({\n",
    "        \"Mouse ID\": mouse_data[\"Mouse ID\"][0],\n",
    "        \"Drug Regimen\": mouse_data[\"Drug Regimen\"][0],\n",
    "        \"Tumor Growth Rate\": slope\n",
    "    })\n",
    "\n",
    "# make a pretty DataFrame out of the results\n",
    "results_df = pd.DataFrame(results)\n",
    "results_df.set_index(\"Mouse ID\", inplace=True)\n",
    "results_df.columns.name = results_df.index.name\n",
    "results_df.index.name = None\n",
    "results_df.sort_values(by=\"Tumor Growth Rate\")\n",
    "\n",
    "# show best and worst mouse\n",
    "pd.merge(results_df.iloc[0], results_df.iloc[-1], on=\"Mouse ID\", how=\"outer\").transpose()"
   ]
  },
  {
   "cell_type": "code",
   "execution_count": 14,
   "metadata": {},
   "outputs": [
    {
     "name": "stdout",
     "output_type": "stream",
     "text": [
      "The Most Promising Treatment Regimens:\n"
     ]
    },
    {
     "data": {
      "text/html": [
       "<div>\n",
       "<style scoped>\n",
       "    .dataframe tbody tr th:only-of-type {\n",
       "        vertical-align: middle;\n",
       "    }\n",
       "\n",
       "    .dataframe tbody tr th {\n",
       "        vertical-align: top;\n",
       "    }\n",
       "\n",
       "    .dataframe thead th {\n",
       "        text-align: right;\n",
       "    }\n",
       "</style>\n",
       "<table border=\"1\" class=\"dataframe\">\n",
       "  <thead>\n",
       "    <tr style=\"text-align: right;\">\n",
       "      <th>Drug Regimen</th>\n",
       "      <th>Tumor Growth Rate</th>\n",
       "    </tr>\n",
       "  </thead>\n",
       "  <tbody>\n",
       "    <tr>\n",
       "      <th>Capomulin</th>\n",
       "      <td>-0.227519</td>\n",
       "    </tr>\n",
       "    <tr>\n",
       "      <th>Ramicane</th>\n",
       "      <td>-0.205903</td>\n",
       "    </tr>\n",
       "    <tr>\n",
       "      <th>Infubinol</th>\n",
       "      <td>0.330636</td>\n",
       "    </tr>\n",
       "    <tr>\n",
       "      <th>Ceftamin</th>\n",
       "      <td>0.406351</td>\n",
       "    </tr>\n",
       "    <tr>\n",
       "      <th>Zoniferol</th>\n",
       "      <td>0.427391</td>\n",
       "    </tr>\n",
       "    <tr>\n",
       "      <th>Propriva</th>\n",
       "      <td>0.440547</td>\n",
       "    </tr>\n",
       "    <tr>\n",
       "      <th>Stelasyn</th>\n",
       "      <td>0.446190</td>\n",
       "    </tr>\n",
       "    <tr>\n",
       "      <th>Naftisol</th>\n",
       "      <td>0.483692</td>\n",
       "    </tr>\n",
       "    <tr>\n",
       "      <th>Placebo</th>\n",
       "      <td>0.507229</td>\n",
       "    </tr>\n",
       "    <tr>\n",
       "      <th>Ketapril</th>\n",
       "      <td>0.547060</td>\n",
       "    </tr>\n",
       "  </tbody>\n",
       "</table>\n",
       "</div>"
      ],
      "text/plain": [
       "Drug Regimen  Tumor Growth Rate\n",
       "Capomulin             -0.227519\n",
       "Ramicane              -0.205903\n",
       "Infubinol              0.330636\n",
       "Ceftamin               0.406351\n",
       "Zoniferol              0.427391\n",
       "Propriva               0.440547\n",
       "Stelasyn               0.446190\n",
       "Naftisol               0.483692\n",
       "Placebo                0.507229\n",
       "Ketapril               0.547060"
      ]
     },
     "execution_count": 14,
     "metadata": {},
     "output_type": "execute_result"
    }
   ],
   "source": [
    "# Then, to determine the most promissing treatment regimens, calculated the mean of Tumor Growth Rates\n",
    "top_drugs = results_df.groupby(\"Drug Regimen\").mean().sort_values(by=\"Tumor Growth Rate\")\n",
    "top_drugs.columns.name = top_drugs.index.name\n",
    "top_drugs.index.name = None\n",
    "\n",
    "print(\"The Most Promising Treatment Regimens:\")\n",
    "top_drugs"
   ]
  }
 ],
 "metadata": {
  "anaconda-cloud": {},
  "kernelspec": {
   "display_name": "Python 3",
   "language": "python",
   "name": "python3"
  },
  "language_info": {
   "codemirror_mode": {
    "name": "ipython",
    "version": 3
   },
   "file_extension": ".py",
   "mimetype": "text/x-python",
   "name": "python",
   "nbconvert_exporter": "python",
   "pygments_lexer": "ipython3",
   "version": "3.7.1"
  },
  "varInspector": {
   "cols": {
    "lenName": 16,
    "lenType": 16,
    "lenVar": 40
   },
   "kernels_config": {
    "python": {
     "delete_cmd_postfix": "",
     "delete_cmd_prefix": "del ",
     "library": "var_list.py",
     "varRefreshCmd": "print(var_dic_list())"
    },
    "r": {
     "delete_cmd_postfix": ") ",
     "delete_cmd_prefix": "rm(",
     "library": "var_list.r",
     "varRefreshCmd": "cat(var_dic_list()) "
    }
   },
   "types_to_exclude": [
    "module",
    "function",
    "builtin_function_or_method",
    "instance",
    "_Feature"
   ],
   "window_display": false
  }
 },
 "nbformat": 4,
 "nbformat_minor": 2
}
