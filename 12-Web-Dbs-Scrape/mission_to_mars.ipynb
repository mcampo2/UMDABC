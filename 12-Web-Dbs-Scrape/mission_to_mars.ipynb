{
 "cells": [
  {
   "cell_type": "code",
   "execution_count": 1,
   "metadata": {},
   "outputs": [],
   "source": [
    "from bs4 import BeautifulSoup as bs\n",
    "import pandas as pd\n",
    "import requests"
   ]
  },
  {
   "cell_type": "markdown",
   "metadata": {},
   "source": [
    "# NASA Mars News"
   ]
  },
  {
   "cell_type": "code",
   "execution_count": 2,
   "metadata": {},
   "outputs": [],
   "source": [
    "# Scrape the NASA Mars News Site and collect the latest News Title and Paragraph Text.\n",
    "# Assign the text to variables that you can reference later.\n",
    "\n",
    "# Example:\n",
    "news_title = \"NASA's Next Mars Mission to Investigate Interior of Red Planet\"\n",
    "\n",
    "news_p = \"Preparation of NASA's next spacecraft to Mars, InSight, has ramped up this summer, \" \\\n",
    "    + \"on course for launch next May from Vandenberg Air Force Base in central California \" \\\n",
    "    + \"-- the first interplanetary launch in history from America's West Coast.\""
   ]
  },
  {
   "cell_type": "code",
   "execution_count": 3,
   "metadata": {},
   "outputs": [
    {
     "name": "stdout",
     "output_type": "stream",
     "text": [
      "Mars Helicopter Attached to NASA's Perseverance Rover\n",
      "The team also fueled the rover's sky crane to get ready for this summer's history-making launch.\n"
     ]
    }
   ],
   "source": [
    "# Open URL\n",
    "url = \"https://mars.nasa.gov/news/\"\n",
    "parser = bs(requests.get(url).text)\n",
    "\n",
    "# Get news title and description\n",
    "news_title = parser.find_all(\"div\", class_=\"content_title\")[0].text.strip()\n",
    "news_p = parser.find_all(\"div\", class_=\"rollover_description\")[0].text.strip()\n",
    "\n",
    "# Print news title and description\n",
    "print(news_title)\n",
    "print(news_p)"
   ]
  },
  {
   "cell_type": "markdown",
   "metadata": {},
   "source": [
    "# JPL Mars Space Images - Featured Image"
   ]
  },
  {
   "cell_type": "code",
   "execution_count": 4,
   "metadata": {},
   "outputs": [],
   "source": [
    "# * Visit the url for JPL Featured Space Image here.\n",
    "# * Use splinter to navigate the site and find the image url for the current Featured\n",
    "#   Mars Image and assign the url string to a variable called featured_image_url.\n",
    "# * Make sure to find the image url to the full size .jpg image.\n",
    "# * Make sure to save a complete url string for this image.\n",
    "\n",
    "# Example:\n",
    "featured_image_url = 'https://www.jpl.nasa.gov/spaceimages/images/largesize/PIA16225_hires.jpg'"
   ]
  },
  {
   "cell_type": "code",
   "execution_count": 5,
   "metadata": {},
   "outputs": [
    {
     "data": {
      "text/plain": [
       "'https://www.jpl.nasa.gov/spaceimages/images/wallpaper/PIA23446-1920x1200.jpg'"
      ]
     },
     "execution_count": 5,
     "metadata": {},
     "output_type": "execute_result"
    }
   ],
   "source": [
    "from splinter import Browser\n",
    "\n",
    "# Open URL\n",
    "browser = Browser('chrome', headless=False)\n",
    "url = 'https://www.jpl.nasa.gov/spaceimages/?search=&category=Mars'\n",
    "browser.visit(url)\n",
    "html = browser.html\n",
    "soup = bs(html, 'html.parser')\n",
    "\n",
    "# Get featured image\n",
    "featured_image_url = \"https://\" + browser.url.split(\"/\")[2] + soup.article.attrs[\"style\"].split(\"'\")[1]\n",
    "browser.quit()\n",
    "\n",
    "# Print featured image\n",
    "featured_image_url"
   ]
  },
  {
   "cell_type": "markdown",
   "metadata": {},
   "source": [
    "# Mars Weather"
   ]
  },
  {
   "cell_type": "code",
   "execution_count": 6,
   "metadata": {},
   "outputs": [],
   "source": [
    "# * Visit the Mars Weather twitter account here and scrape the latest Mars weather tweet from\n",
    "#   the page. Save the tweet text for the weather report as a variable called mars_weather.\n",
    "# * Note: Be sure you are not signed in to twitter, or scraping may become more difficult.\n",
    "# * Note: Twitter frequently changes how information is presented on their website. If you \n",
    "#   are having difficulty getting the correct html tag data, consider researching Regular \n",
    "#   Expression Patterns and how they can be used in combination with the .find() method.\n",
    "\n",
    "# Example:\n",
    "mars_weather = 'Sol 1801 (Aug 30, 2017), Sunny, high -21C/-5F, low -80C/-112F, pressure at 8.82 hPa, daylight 06:09-17:55'"
   ]
  },
  {
   "cell_type": "code",
   "execution_count": 7,
   "metadata": {},
   "outputs": [
    {
     "data": {
      "text/plain": [
       "'InSight sol 501 (2020-04-24) low -93.5ºC (-136.2ºF) high -4.3ºC (24.3ºF)\\nwinds from the SW at 5.0 m/s (11.3 mph) gusting to 15.8 m/s (35.3 mph)\\npressure at 6.70 hPa pic.twitter.com/Xdbw8T0T0E'"
      ]
     },
     "execution_count": 7,
     "metadata": {},
     "output_type": "execute_result"
    }
   ],
   "source": [
    "# Open url\n",
    "url = \"https://mobile.twitter.com/marswxreport?lang=en\"\n",
    "parser = bs(requests.get(url).text)\n",
    "\n",
    "# Get mars weather\n",
    "mars_weather = parser.find_all(\"div\", class_=\"tweet-text\")[0].text.strip()\n",
    "# Print mars weather\n",
    "mars_weather"
   ]
  },
  {
   "cell_type": "markdown",
   "metadata": {},
   "source": [
    "# Mars Facts"
   ]
  },
  {
   "cell_type": "code",
   "execution_count": 8,
   "metadata": {
    "scrolled": true
   },
   "outputs": [
    {
     "data": {
      "text/html": [
       "<style  type=\"text/css\" >\n",
       "</style><table id=\"T_75c0907e_8869_11ea_af15_606c6624a7ab\" ><thead>    <tr>        <th class=\"col_heading level0 col0\" >key</th>        <th class=\"col_heading level0 col1\" >value</th>    </tr></thead><tbody>\n",
       "                <tr>\n",
       "                                <td id=\"T_75c0907e_8869_11ea_af15_606c6624a7abrow0_col0\" class=\"data row0 col0\" >Equatorial Diameter:</td>\n",
       "                        <td id=\"T_75c0907e_8869_11ea_af15_606c6624a7abrow0_col1\" class=\"data row0 col1\" >6,792 km</td>\n",
       "            </tr>\n",
       "            <tr>\n",
       "                                <td id=\"T_75c0907e_8869_11ea_af15_606c6624a7abrow1_col0\" class=\"data row1 col0\" >Polar Diameter:</td>\n",
       "                        <td id=\"T_75c0907e_8869_11ea_af15_606c6624a7abrow1_col1\" class=\"data row1 col1\" >6,752 km</td>\n",
       "            </tr>\n",
       "            <tr>\n",
       "                                <td id=\"T_75c0907e_8869_11ea_af15_606c6624a7abrow2_col0\" class=\"data row2 col0\" >Mass:</td>\n",
       "                        <td id=\"T_75c0907e_8869_11ea_af15_606c6624a7abrow2_col1\" class=\"data row2 col1\" >6.39 × 10^23 kg (0.11 Earths)</td>\n",
       "            </tr>\n",
       "            <tr>\n",
       "                                <td id=\"T_75c0907e_8869_11ea_af15_606c6624a7abrow3_col0\" class=\"data row3 col0\" >Moons:</td>\n",
       "                        <td id=\"T_75c0907e_8869_11ea_af15_606c6624a7abrow3_col1\" class=\"data row3 col1\" >2 (Phobos & Deimos)</td>\n",
       "            </tr>\n",
       "            <tr>\n",
       "                                <td id=\"T_75c0907e_8869_11ea_af15_606c6624a7abrow4_col0\" class=\"data row4 col0\" >Orbit Distance:</td>\n",
       "                        <td id=\"T_75c0907e_8869_11ea_af15_606c6624a7abrow4_col1\" class=\"data row4 col1\" >227,943,824 km (1.38 AU)</td>\n",
       "            </tr>\n",
       "            <tr>\n",
       "                                <td id=\"T_75c0907e_8869_11ea_af15_606c6624a7abrow5_col0\" class=\"data row5 col0\" >Orbit Period:</td>\n",
       "                        <td id=\"T_75c0907e_8869_11ea_af15_606c6624a7abrow5_col1\" class=\"data row5 col1\" >687 days (1.9 years)</td>\n",
       "            </tr>\n",
       "            <tr>\n",
       "                                <td id=\"T_75c0907e_8869_11ea_af15_606c6624a7abrow6_col0\" class=\"data row6 col0\" >Surface Temperature:</td>\n",
       "                        <td id=\"T_75c0907e_8869_11ea_af15_606c6624a7abrow6_col1\" class=\"data row6 col1\" >-87 to -5 °C</td>\n",
       "            </tr>\n",
       "            <tr>\n",
       "                                <td id=\"T_75c0907e_8869_11ea_af15_606c6624a7abrow7_col0\" class=\"data row7 col0\" >First Record:</td>\n",
       "                        <td id=\"T_75c0907e_8869_11ea_af15_606c6624a7abrow7_col1\" class=\"data row7 col1\" >2nd millennium BC</td>\n",
       "            </tr>\n",
       "            <tr>\n",
       "                                <td id=\"T_75c0907e_8869_11ea_af15_606c6624a7abrow8_col0\" class=\"data row8 col0\" >Recorded By:</td>\n",
       "                        <td id=\"T_75c0907e_8869_11ea_af15_606c6624a7abrow8_col1\" class=\"data row8 col1\" >Egyptian astronomers</td>\n",
       "            </tr>\n",
       "    </tbody></table>"
      ],
      "text/plain": [
       "<pandas.io.formats.style.Styler at 0x13eff9b7460>"
      ]
     },
     "execution_count": 8,
     "metadata": {},
     "output_type": "execute_result"
    }
   ],
   "source": [
    "# * Visit the Mars Facts webpage here and use Pandas to scrape the table\n",
    "#   containing facts about the planet including Diameter, Mass, etc.\n",
    "# * Use Pandas to convert the data to a HTML table string.\n",
    "\n",
    "# Get HTML table\n",
    "url = \"https://space-facts.com/mars/\"\n",
    "parser = bs(requests.get(url).text)\n",
    "html_table = str(parser.table)\n",
    "\n",
    "# Convert HTML table to a DataFrame\n",
    "mars_facts_df = pd.DataFrame(pd.read_html(html_table, flavor=\"html5lib\")[0])\n",
    "# Convert DataFrame back to HTML table?  inefficient, but whatever\n",
    "mars_facts_html = mars_facts_df.to_html(index=False, header=False)\n",
    "\n",
    "# Print table\n",
    "mars_facts_df.rename(columns={0: \"key\", 1: \"value\"}).style.hide_index()"
   ]
  },
  {
   "cell_type": "markdown",
   "metadata": {},
   "source": [
    "# Mars Hemispheres"
   ]
  },
  {
   "cell_type": "code",
   "execution_count": 9,
   "metadata": {},
   "outputs": [],
   "source": [
    "# * Visit the USGS Astrogeology site here to obtain high resolution images for each of Mar's hemispheres.\n",
    "# * You will need to click each of the links to the hemispheres in order to find the image url to the \n",
    "#   fullresolution image.\n",
    "# * Save both the image url string for the full resolution hemisphere image, and the Hemisphere title containing\n",
    "#   the hemisphere name. Use a Python dictionary to store the data using the keys img_url and title.\n",
    "# * Append the dictionary with the image url string and the hemisphere title to a list. This list will\n",
    "#   containone dictionary for each hemisphere.\n",
    "\n",
    "# Example:\n",
    "hemisphere_image_urls = [\n",
    "    {\"title\": \"Valles Marineris Hemisphere\", \"img_url\": \"...\"},\n",
    "    {\"title\": \"Cerberus Hemisphere\", \"img_url\": \"...\"},\n",
    "    {\"title\": \"Schiaparelli Hemisphere\", \"img_url\": \"...\"},\n",
    "    {\"title\": \"Syrtis Major Hemisphere\", \"img_url\": \"...\"},\n",
    "]"
   ]
  },
  {
   "cell_type": "code",
   "execution_count": 10,
   "metadata": {},
   "outputs": [
    {
     "data": {
      "text/plain": [
       "[{'Title': 'Cerberus Hemisphere',\n",
       "  'Link': 'http://astropedia.astrogeology.usgs.gov/download/Mars/Viking/cerberus_enhanced.tif'},\n",
       " {'Title': 'Schiaparelli Hemisphere',\n",
       "  'Link': 'http://astropedia.astrogeology.usgs.gov/download/Mars/Viking/schiaparelli_enhanced.tif'},\n",
       " {'Title': 'Syrtis Major Hemisphere',\n",
       "  'Link': 'http://astropedia.astrogeology.usgs.gov/download/Mars/Viking/syrtis_major_enhanced.tif'},\n",
       " {'Title': 'Valles Marineris Hemisphere',\n",
       "  'Link': 'http://astropedia.astrogeology.usgs.gov/download/Mars/Viking/valles_marineris_enhanced.tif'}]"
      ]
     },
     "execution_count": 10,
     "metadata": {},
     "output_type": "execute_result"
    }
   ],
   "source": [
    "hemisphere_image_urls = []\n",
    "\n",
    "# Open URL\n",
    "executable_path = {'executable_path': 'chromedriver.exe'}\n",
    "browser = Browser('chrome', headless=False)\n",
    "url = \"https://astrogeology.usgs.gov/search/results?q=hemisphere+enhanced&k1=target&v1=Mars\"\n",
    "browser.visit(url)\n",
    "html = browser.html\n",
    "soup = bs(html, 'html.parser')\n",
    "\n",
    "# Extract image from each link\n",
    "links = [\"https://\" + browser.url.split(\"/\")[2] + tag.parent.attrs[\"href\"] for tag in soup.find_all(\"h3\")]\n",
    "for link in links:\n",
    "    image = {}\n",
    "    browser.visit(link)\n",
    "    soup = bs(browser.html, 'html.parser')\n",
    "    image[\"Title\"] = str(soup.h2.text.rsplit(' ', 1)[0])\n",
    "    image[\"Link\"] = str(soup.find_all(\"a\", text=\"Original\")[0].attrs[\"href\"])\n",
    "    hemisphere_image_urls.append(image)\n",
    "browser.quit()\n",
    "\n",
    "# Print image dictionary\n",
    "hemisphere_image_urls"
   ]
  },
  {
   "cell_type": "code",
   "execution_count": null,
   "metadata": {},
   "outputs": [],
   "source": []
  }
 ],
 "metadata": {
  "kernelspec": {
   "display_name": "Python 3",
   "language": "python",
   "name": "python3"
  },
  "language_info": {
   "codemirror_mode": {
    "name": "ipython",
    "version": 3
   },
   "file_extension": ".py",
   "mimetype": "text/x-python",
   "name": "python",
   "nbconvert_exporter": "python",
   "pygments_lexer": "ipython3",
   "version": "3.8.2"
  }
 },
 "nbformat": 4,
 "nbformat_minor": 4
}
